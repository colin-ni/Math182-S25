{
 "cells": [
  {
   "cell_type": "markdown",
   "metadata": {},
   "source": [
    "This week for discussion section we will discuss Problem 3 on HW 3 and then Problem 1 on HW 3."
   ]
  },
  {
   "cell_type": "markdown",
   "metadata": {},
   "source": [
    "## Problem 3\n",
    "\n",
    "For Problem 3(a), you may use the following code and the test cases to verify\n",
    "that your pseudocode works. In fact, you may just submit the code you write\n",
    "here."
   ]
  },
  {
   "cell_type": "code",
   "execution_count": null,
   "metadata": {},
   "outputs": [],
   "source": [
    "def swap(array, i, j):\n",
    "    array[i], array[j] = array[j], array[i]\n",
    "\n",
    "\n",
    "class Heap:\n",
    "\n",
    "    def __init__(self):\n",
    "        self.array = []\n",
    "\n",
    "    def min(self):\n",
    "        assert self.array, 'heap is empty, so there is no min element'\n",
    "        return self.array[0]\n",
    "\n",
    "    def insert(self, x):\n",
    "        self.array.append(x)\n",
    "        self._bubble_up(len(self.array) - 1) # bubble up the last element x in the array\n",
    "\n",
    "    def delete_min(self):\n",
    "        # if the heap is empty, do nothing\n",
    "        if not self.array:\n",
    "            return\n",
    "        deleted_elt = self.min()\n",
    "        swap(self.array, 0, len(self.array) - 1)\n",
    "        self.array.pop()\n",
    "        self._bubble_down(0)\n",
    "        return deleted_elt\n",
    "    \n",
    "    @classmethod\n",
    "    def heapify(cls, array):\n",
    "        # TODO\n",
    "        pass\n",
    "    \n",
    "    def _satisfies_heap_property(self):\n",
    "        return all(\n",
    "            (\n",
    "                2 * i >= len(self.array) or self.array[i] <= self.array[2 * i]\n",
    "            ) and (\n",
    "                2 * i + 1 >= len(self.array) or self.array[i] <= self.array[2 * i + 1]\n",
    "            )\n",
    "            for i in range(len(self.array))\n",
    "        )\n",
    "\n",
    "    def _bubble_down(self, i):\n",
    "        if 2 * i + 1 < len(self.array): # both children exist\n",
    "            j = 2 * i if self.array[2 * i] < self.array[2 * i + 1] else 2 * i + 1\n",
    "        elif 2 * i < len(self.array): # only the left child exists\n",
    "            j = 2 * i\n",
    "        else: # we are done\n",
    "            return\n",
    "        if self.array[i] > self.array[j]:\n",
    "            swap(self.array, i, j)\n",
    "            self._bubble_down(j)\n",
    "            \n",
    "    def _bubble_up(self, i):\n",
    "        # TODO\n",
    "        pass\n",
    "\n",
    "    def __len__(self):\n",
    "        return len(self.array)\n",
    "\n",
    "\n",
    "# test `_bubble_up`\n",
    "heap = Heap()\n",
    "elements = [5, 6, 3, 2, 1, 8, 9, 4, 7]\n",
    "\n",
    "for x in elements:\n",
    "    heap.insert(x)\n",
    "    assert heap._satisfies_heap_property(), f'{heap.array=}'\n",
    "\n",
    "for current_min in sorted(elements):\n",
    "    assert heap.min() == current_min, f'{heap.array=}'\n",
    "    heap.delete_min()\n",
    "    assert heap._satisfies_heap_property(), f'{heap.array=}'\n",
    "    \n",
    "\n",
    "# test `heapify`\n",
    "heap = Heap.heapify(elements)\n",
    "assert heap._satisfies_heap_property(), f'{heap.array=}'"
   ]
  },
  {
   "cell_type": "markdown",
   "metadata": {},
   "source": [
    "Let us discuss the runtime of `heapify`. Each `_bubble_down` takes $O(\\log i)$\n",
    "time, where $i$ is the current size of the heap. Thus `heapify` takes\n",
    "$$O\\left(\\sum_{i = 1}^n \\log i\\right) = O(\\log(n!))$$\n",
    "time. By a previous homework problem, $\\log(n!) \\in \\Theta(n \\log n).$"
   ]
  },
  {
   "cell_type": "markdown",
   "metadata": {},
   "source": [
    "## Problem 1\n",
    "\n",
    "### Examples and observations\n",
    "\n",
    "For Problem 1, let us first discuss some simple examples.\n",
    "- For $(1, 3), (5, 1)$ (the tuples are the $(s_i, g_i)$), the optimal ordering\n",
    "is $(1, 3), (5, 1).$\n",
    "- For $(3, 6), (2, 5),$ the optimal ordering is $(3, 6), (2, 5).$\n",
    "\n",
    "\n",
    "Already we see that it does not work to be greedy with $s_i$ or $s_i + g_i.$\n",
    "Moreover, given that we have been discussing greedy strategies in lecture, we\n",
    "can already guess that the answer is to be greedy with $g_i,$ in the sense that\n",
    "those with larger $g_i$'s scan first (as usual, it does not make a difference\n",
    "how we break ties).\n",
    "\n",
    "For the more complicated example $(1, 1), (1, 4), (2, 4), (2, 10), (3, 11),$ we\n",
    "can verify that indeed the ordering $(3, 11), (2, 10), (1, 4), (2, 4), (1, 1),$\n",
    "which takes a total of $15$ minutes, is optimal."
   ]
  },
  {
   "cell_type": "markdown",
   "metadata": {},
   "source": [
    "### Review of inversions\n",
    "\n",
    "Before embarking on a proof, let us recall the idea of an inversion in\n",
    "a list. They arise when we are trying to optimize some score $S.$ Inversions\n",
    "are certain pairs of items in an ordering that should satisfy the following\n",
    "three properties:\n",
    "1. an ordering with no inversions have the same score $S$\n",
    "2. swapping the items in an inversion does not increase $S$\n",
    "3. the process of repeatedly swapping the items in inversions terminates\n",
    "\n",
    "It follows that any ordering with no inversions is optimal. Indeed, given an\n",
    "optimal ordering with optimal score $S_0$ (which exists because there are\n",
    "finitely many orderings), we can use the third property to repeatedly swap\n",
    "items in inversions to get an ordering with no inversions, and this resulting\n",
    "ordering has the same score $S_0$ by the second property. Therefore by the\n",
    "first property, any orderinb with no inversions has score $S_0,$ hence is\n",
    "optimal.\n"
   ]
  },
  {
   "cell_type": "markdown",
   "metadata": {},
   "source": [
    "### Inversions in Problem 1\n",
    "\n",
    "Let us discuss what an inversion should be in this setting.\n",
    "\n",
    "Here is an idea that does not work. Since we are ordering by decreasing $g_i,$\n",
    "we may think that an inversion should be a pair of instructors $i$ and $j$ such\n",
    "that $i$ scans before $j$ but $g_i < g_j.$ But this does not satisfy the first\n",
    "property because swapping their scanning orders may affect the people who are\n",
    "scheduled to scan in between them. For example, swapping the first and last in\n",
    "$(1, 100), (5, 200), (100, 1)$ increases the total time required from $206$ to\n",
    "$305.$\n",
    "\n",
    "To avoid this problem, we require that there be no one in between the\n",
    "instructors being swapped: we say that an inversion is a pair of instructors $i$\n",
    "and $j$ who are currently scheduled to scan consecutively, say $i$ before $j,$\n",
    "but such that $g_i < g_j.$ The three properties are now straightforward to\n",
    "prove."
   ]
  },
  {
   "cell_type": "markdown",
   "metadata": {},
   "source": [
    "### Implementation\n",
    "\n",
    "Finally, let us discuss how we can implement this efficiently, i.e. in\n",
    "$O(n \\log n)$ time instead of $O(n^2)$ time. The main obstacle is that we need\n",
    "to sort the instructors by decreasing $g_i.$ So far we have only seen bubble\n",
    "sort which is $O(n^2)$ time, and later in the course we will discuss\n",
    "$O(n\\log n)$ time sorting algorithms systematically.\n",
    "\n",
    "In the meantime, here is one way to sort in $O(n\\log n)$ time using a heap. Take\n",
    "an array, heapify it, and repeatedly pop elements until the heap is empty.\n",
    "The popped elements are in sorted order. Since heapifying takes $O(n \\log n)$\n",
    "time and popping takes $O(\\log n)$ time, the entire process takes\n",
    "$O(n \\log n)$ time.\n",
    "\n",
    "Here is some code that demonstrates this."
   ]
  },
  {
   "cell_type": "code",
   "execution_count": null,
   "metadata": {},
   "outputs": [],
   "source": [
    "def heap_sorted(array):\n",
    "    # TODO\n",
    "    pass\n",
    "\n",
    "array = [5, 7, 8, 5, 3, 2, 1, 5, 6, 7, 5, 4, 3, 2, 5]    \n",
    "assert sorted(array) == heap_sorted(array)"
   ]
  },
  {
   "cell_type": "markdown",
   "metadata": {},
   "source": [
    "It is now up to you to implement our algorithm for Problem 1. As a hint, you can\n",
    "basically do it in one line."
   ]
  }
 ],
 "metadata": {
  "kernelspec": {
   "display_name": "Python 3",
   "language": "python",
   "name": "python3"
  },
  "language_info": {
   "codemirror_mode": {
    "name": "ipython",
    "version": 3
   },
   "file_extension": ".py",
   "mimetype": "text/x-python",
   "name": "python",
   "nbconvert_exporter": "python",
   "pygments_lexer": "ipython3",
   "version": "3.12.3"
  }
 },
 "nbformat": 4,
 "nbformat_minor": 2
}
