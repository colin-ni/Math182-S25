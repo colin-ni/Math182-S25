{
 "cells": [
  {
   "cell_type": "markdown",
   "id": "cd039ea4",
   "metadata": {},
   "source": [
    "This week for discussion section we will do some review problems."
   ]
  },
  {
   "cell_type": "markdown",
   "id": "60382bb7",
   "metadata": {},
   "source": [
    "## Problem 1\n",
    "\n",
    "Consider the following problems.\n",
    "\n",
    "1. Given $n$ items with weights $w_1, \\dotsc, w_n$ and a knapsack with\n",
    "capacity $c,$ find the maximal weight you can fit in your knapsack.\n",
    "2. Same problem as the previous one, but now the items also have values\n",
    "$v_1, \\dotsc, v_n$ and you instead want to maximize the value.\n",
    "3. Same problem as the previous one, but now you can take any proportion of\n",
    "any item, e.g. \"take 16.5% of the second item.\"\n",
    "4. Suppose you are throwing a party for your $n$ friends. Upon arrival at your\n",
    "party, your $i$ th friend will stay at the party if and only if there are\n",
    "already at least $b_i$ people at the party, including yourself. Find an\n",
    "order at which your friends will arrive that maximizes the number of friends\n",
    "who stay.\n",
    "5. Let $A$ and $B$ be two lists of numbers. Determine a longest common\n",
    "subsequence.\n",
    "6. Let $A$ and $B$ be two lists of numbers. Determine whether a longest\n",
    "common subsequence is $A$ or $B.$\n",
    "\n",
    "For each of these problems, come up with at least one reasonable greedy\n",
    "algorithm, and for each algorithm you come up with, say whether it works (no \n",
    "proof required) or fails (give an example). Here are how points work:\n",
    "- If it works and you say it works, then you get +10 points.\n",
    "- If it works and you say it fails, then you get -2 point.\n",
    "- If it fails and you say it fails and give an example, then you get +5 points.\n",
    "- If it fails and you say it works, then you get -100 points."
   ]
  },
  {
   "cell_type": "markdown",
   "id": "92806cc3",
   "metadata": {},
   "source": [
    "## Problem 2\n",
    "Suppose you have the stock prices of Nvidia over the course of $n$ days and that\n",
    "you can go back in time and choose a buy day and a sell day (of course, you can\n",
    "only sell if you have already bought). Design an algorithm to maximize your\n",
    "profit."
   ]
  },
  {
   "cell_type": "code",
   "execution_count": null,
   "id": "32493568",
   "metadata": {},
   "outputs": [],
   "source": [
    "def maximize_profits(prices):\n",
    "    # TODO\n",
    "    pass\n",
    "\n",
    "def maximize_profits_brute_force(prices):\n",
    "    return max(\n",
    "        prices[j] - prices[i]\n",
    "        for i in range(len(prices))\n",
    "        for j in range(i, len(prices))\n",
    "    )\n",
    "\n",
    "prices = [2, 2, 5, 6, 7, 8]\n",
    "assert maximize_profits(prices) == maximize_profits_brute_force(prices)\n",
    "prices = [5, 100, 1, 200]\n",
    "assert maximize_profits(prices) == maximize_profits_brute_force(prices)\n",
    "prices = [19, 54, 23, 67, 54, 21, 93, 5, 92, 95, 101, 2, 56, 100]\n",
    "assert maximize_profits(prices) == maximize_profits_brute_force(prices)\n",
    "prices = [67, 45, 7, 25, 1, 34, 1, 3, 6, 245, 7, 36, 72, 6, 34, 5, 14, 54, 7]\n",
    "assert maximize_profits(prices) == maximize_profits_brute_force(prices)"
   ]
  },
  {
   "cell_type": "markdown",
   "id": "7e3f529f",
   "metadata": {},
   "source": [
    "## Problem 3\n",
    "Given $n$ points $(x_1, y_1), \\dotsc, (x_n, y_n) \\in \\R^2$ in the plane (with\n",
    "pairwise distinct distances from the origin) and an integer $1 \\leq k \\leq n,$\n",
    "design an algorithm to find the $k$ th furthest point from the origin. Analyze\n",
    "the runtime of your algorithm when $k = 1$ and when $k = n.$"
   ]
  },
  {
   "cell_type": "code",
   "execution_count": null,
   "id": "bed3120a",
   "metadata": {},
   "outputs": [],
   "source": [
    "import heapq\n",
    "import math\n",
    "\n",
    "def kth_furthest_point(points, k):\n",
    "    # TODO\n",
    "    pass\n",
    "\n",
    "assert kth_furthest_point([(5, 5), (10, 10), (15, 15)], 1) == (15, 15)\n",
    "assert kth_furthest_point([(5, 5), (10, 10), (15, 15)], 2) == (10, 10)\n",
    "assert kth_furthest_point([(5, 5), (10, 10), (15, 15)], 3) == (5, 5)\n",
    "assert kth_furthest_point([\n",
    "    (14, 23), (1, 2), (0, 0), (-3, -4), (-5, -10), (100, 100), (-100, 101)\n",
    "], 3) == (14, 23)"
   ]
  },
  {
   "cell_type": "markdown",
   "id": "bd84c949",
   "metadata": {},
   "source": [
    "## Problem 4\n",
    "Let $A$ be a sorted $n \\times n$ matrix of numbers, in the sense that\n",
    "$A[i][j] <= A[i + 1][j]$ and $A[i][j] <= A[i][j + 1]$ for all relevant $i, j.$\n",
    "Consider the problem of whether a given number $x$ is in $A.$ Design a divide\n",
    "and conquer algorithm to do this. Is this optimal?"
   ]
  },
  {
   "cell_type": "code",
   "execution_count": null,
   "id": "3b9a0ffd",
   "metadata": {},
   "outputs": [],
   "source": [
    "def search_array(A, x):\n",
    "    # TODO\n",
    "    pass\n",
    "\n",
    "A = [\n",
    "    [2, 4, 8, 10, 11],\n",
    "    [2, 4, 9, 13, 15],\n",
    "    [7, 8, 9, 16, 17],\n",
    "    [13, 14, 20, 22, 24]\n",
    "]\n",
    "assert search_array(A, 2)\n",
    "assert search_array(A, 4)\n",
    "assert search_array(A, 7)\n",
    "assert search_array(A, 8)\n",
    "assert search_array(A, 9)\n",
    "assert search_array(A, 10)\n",
    "assert search_array(A, 13)\n",
    "assert search_array(A, 14)\n",
    "assert search_array(A, 15)\n",
    "assert search_array(A, 16)\n",
    "assert search_array(A, 17)\n",
    "assert search_array(A, 20)\n",
    "assert search_array(A, 22)\n",
    "assert search_array(A, 24)\n",
    "assert not search_array(A, 1)\n",
    "assert not search_array(A, 3)\n",
    "assert not search_array(A, 5)\n",
    "assert not search_array(A, 6)\n",
    "assert not search_array(A, 18)\n",
    "assert not search_array(A, 21)\n",
    "assert not search_array(A, 25)"
   ]
  }
 ],
 "metadata": {
  "kernelspec": {
   "display_name": "Python 3",
   "language": "python",
   "name": "python3"
  },
  "language_info": {
   "codemirror_mode": {
    "name": "ipython",
    "version": 3
   },
   "file_extension": ".py",
   "mimetype": "text/x-python",
   "name": "python",
   "nbconvert_exporter": "python",
   "pygments_lexer": "ipython3",
   "version": "3.12.3"
  }
 },
 "nbformat": 4,
 "nbformat_minor": 5
}
